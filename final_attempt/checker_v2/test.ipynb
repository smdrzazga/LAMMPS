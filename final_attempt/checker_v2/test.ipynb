{
 "cells": [
  {
   "cell_type": "code",
   "execution_count": 8,
   "metadata": {},
   "outputs": [
    {
     "name": "stdout",
     "output_type": "stream",
     "text": [
      "0 abba\n",
      "1 abba\n",
      "2 abba\n",
      "3 abba\n",
      "4 abba\n"
     ]
    }
   ],
   "source": [
    "a = [i for i in range(5)]\n",
    "b = [\"abba\"]*5\n",
    "\n",
    "c = zip(a, b)\n",
    "for x, y in zip([i for i in range(5)], b*5):\n",
    "    print(x, y)"
   ]
  },
  {
   "cell_type": "code",
   "execution_count": 1,
   "metadata": {},
   "outputs": [
    {
     "name": "stdout",
     "output_type": "stream",
     "text": [
      "0.567890000000034\n"
     ]
    }
   ],
   "source": [
    "a = 1234.56789\n",
    "print(a%1.0)"
   ]
  }
 ],
 "metadata": {
  "kernelspec": {
   "display_name": "Python 3",
   "language": "python",
   "name": "python3"
  },
  "language_info": {
   "codemirror_mode": {
    "name": "ipython",
    "version": 3
   },
   "file_extension": ".py",
   "mimetype": "text/x-python",
   "name": "python",
   "nbconvert_exporter": "python",
   "pygments_lexer": "ipython3",
   "version": "3.10.4"
  },
  "orig_nbformat": 4
 },
 "nbformat": 4,
 "nbformat_minor": 2
}
